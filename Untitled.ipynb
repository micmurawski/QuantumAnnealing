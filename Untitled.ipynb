{
 "cells": [
  {
   "cell_type": "code",
   "execution_count": 8,
   "metadata": {},
   "outputs": [],
   "source": [
    "import matplotlib.pyplot as plt\n",
    "import numpy as np\n",
    "from algorithms import *"
   ]
  },
  {
   "cell_type": "code",
   "execution_count": 28,
   "metadata": {},
   "outputs": [],
   "source": [
    "points = np.loadtxt('./data.txt')\n",
    "        \n",
    "\n",
    "places = len(points)\n",
    "total_time = places"
   ]
  },
  {
   "cell_type": "code",
   "execution_count": 27,
   "metadata": {},
   "outputs": [
    {
     "data": {
      "text/plain": [
       "array([[52.22036, 21.00972],\n",
       "       [52.22272, 21.00667],\n",
       "       [52.22667, 21.00444],\n",
       "       [52.22647, 21.00583],\n",
       "       [52.22478, 21.00583],\n",
       "       [52.22958, 21.0075 ],\n",
       "       [52.22489, 21.00306],\n",
       "       [52.22883, 21.00611],\n",
       "       [52.22131, 21.00306],\n",
       "       [52.22756, 21.     ],\n",
       "       [52.22708, 21.00306],\n",
       "       [52.22306, 21.00333],\n",
       "       [52.22361, 21.00833],\n",
       "       [52.22078, 21.00167],\n",
       "       [52.22958, 21.00889],\n",
       "       [52.22619, 21.00417],\n",
       "       [52.2205 , 21.00944],\n",
       "       [52.22386, 21.00417],\n",
       "       [52.22117, 21.00778],\n",
       "       [52.22733, 21.00167],\n",
       "       [52.22817, 21.00944],\n",
       "       [52.226  , 21.00889],\n",
       "       [52.22825, 21.00194],\n",
       "       [52.22131, 21.00361],\n",
       "       [52.22489, 21.00167]])"
      ]
     },
     "execution_count": 27,
     "metadata": {},
     "output_type": "execute_result"
    }
   ],
   "source": [
    "points"
   ]
  },
  {
   "cell_type": "code",
   "execution_count": null,
   "metadata": {},
   "outputs": [],
   "source": []
  }
 ],
 "metadata": {
  "kernelspec": {
   "display_name": "Python 3",
   "language": "python",
   "name": "python3"
  },
  "language_info": {
   "codemirror_mode": {
    "name": "ipython",
    "version": 3
   },
   "file_extension": ".py",
   "mimetype": "text/x-python",
   "name": "python",
   "nbconvert_exporter": "python",
   "pygments_lexer": "ipython3",
   "version": "3.6.6"
  }
 },
 "nbformat": 4,
 "nbformat_minor": 2
}
